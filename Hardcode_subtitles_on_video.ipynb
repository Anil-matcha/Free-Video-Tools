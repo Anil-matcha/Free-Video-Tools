{
  "nbformat": 4,
  "nbformat_minor": 0,
  "metadata": {
    "colab": {
      "provenance": [],
      "authorship_tag": "ABX9TyMXhFPGEH2vgmn5vdAmLI2L",
      "include_colab_link": true
    },
    "kernelspec": {
      "name": "python3",
      "display_name": "Python 3"
    },
    "language_info": {
      "name": "python"
    }
  },
  "cells": [
    {
      "cell_type": "markdown",
      "metadata": {
        "id": "view-in-github",
        "colab_type": "text"
      },
      "source": [
        "<a href=\"https://colab.research.google.com/github/Anil-matcha/Free-Video-Tools/blob/main/Hardcode_subtitles_on_video.ipynb\" target=\"_parent\"><img src=\"https://colab.research.google.com/assets/colab-badge.svg\" alt=\"Open In Colab\"/></a>"
      ]
    },
    {
      "cell_type": "markdown",
      "source": [
        "Step 1: Install Required Libraries"
      ],
      "metadata": {
        "id": "JkNVzDFHZ6kh"
      }
    },
    {
      "cell_type": "code",
      "execution_count": 1,
      "metadata": {
        "colab": {
          "base_uri": "https://localhost:8080/"
        },
        "id": "WJdBemqCP8Mo",
        "outputId": "a19c0c5e-d4a5-4c72-ae28-cca888adc9f7"
      },
      "outputs": [
        {
          "output_type": "stream",
          "name": "stdout",
          "text": [
            "Requirement already satisfied: moviepy in /usr/local/lib/python3.10/dist-packages (1.0.3)\n",
            "Collecting pysrt\n",
            "  Downloading pysrt-1.1.2.tar.gz (104 kB)\n",
            "\u001b[2K     \u001b[90m━━━━━━━━━━━━━━━━━━━━━━━━━━━━━━━━━━━━━━━━\u001b[0m \u001b[32m104.4/104.4 kB\u001b[0m \u001b[31m2.1 MB/s\u001b[0m eta \u001b[36m0:00:00\u001b[0m\n",
            "\u001b[?25h  Preparing metadata (setup.py) ... \u001b[?25l\u001b[?25hdone\n",
            "Requirement already satisfied: decorator<5.0,>=4.0.2 in /usr/local/lib/python3.10/dist-packages (from moviepy) (4.4.2)\n",
            "Requirement already satisfied: tqdm<5.0,>=4.11.2 in /usr/local/lib/python3.10/dist-packages (from moviepy) (4.66.4)\n",
            "Requirement already satisfied: requests<3.0,>=2.8.1 in /usr/local/lib/python3.10/dist-packages (from moviepy) (2.31.0)\n",
            "Requirement already satisfied: proglog<=1.0.0 in /usr/local/lib/python3.10/dist-packages (from moviepy) (0.1.10)\n",
            "Requirement already satisfied: numpy>=1.17.3 in /usr/local/lib/python3.10/dist-packages (from moviepy) (1.25.2)\n",
            "Requirement already satisfied: imageio<3.0,>=2.5 in /usr/local/lib/python3.10/dist-packages (from moviepy) (2.31.6)\n",
            "Requirement already satisfied: imageio-ffmpeg>=0.2.0 in /usr/local/lib/python3.10/dist-packages (from moviepy) (0.5.1)\n",
            "Requirement already satisfied: chardet in /usr/local/lib/python3.10/dist-packages (from pysrt) (5.2.0)\n",
            "Requirement already satisfied: pillow<10.1.0,>=8.3.2 in /usr/local/lib/python3.10/dist-packages (from imageio<3.0,>=2.5->moviepy) (9.4.0)\n",
            "Requirement already satisfied: setuptools in /usr/local/lib/python3.10/dist-packages (from imageio-ffmpeg>=0.2.0->moviepy) (67.7.2)\n",
            "Requirement already satisfied: charset-normalizer<4,>=2 in /usr/local/lib/python3.10/dist-packages (from requests<3.0,>=2.8.1->moviepy) (3.3.2)\n",
            "Requirement already satisfied: idna<4,>=2.5 in /usr/local/lib/python3.10/dist-packages (from requests<3.0,>=2.8.1->moviepy) (3.7)\n",
            "Requirement already satisfied: urllib3<3,>=1.21.1 in /usr/local/lib/python3.10/dist-packages (from requests<3.0,>=2.8.1->moviepy) (2.0.7)\n",
            "Requirement already satisfied: certifi>=2017.4.17 in /usr/local/lib/python3.10/dist-packages (from requests<3.0,>=2.8.1->moviepy) (2024.6.2)\n",
            "Building wheels for collected packages: pysrt\n",
            "  Building wheel for pysrt (setup.py) ... \u001b[?25l\u001b[?25hdone\n",
            "  Created wheel for pysrt: filename=pysrt-1.1.2-py3-none-any.whl size=13443 sha256=f195fb1c3e52a37f2fab3195aa9c3cd0b7df8ab71b4bb9dc16ca401cddb882ba\n",
            "  Stored in directory: /root/.cache/pip/wheels/30/7f/e8/55de9a9b07302d9e7fe47c27910e3bea0c48536153e74bd7e6\n",
            "Successfully built pysrt\n",
            "Installing collected packages: pysrt\n",
            "Successfully installed pysrt-1.1.2\n"
          ]
        }
      ],
      "source": [
        "!pip install moviepy pysrt"
      ]
    },
    {
      "cell_type": "markdown",
      "source": [
        "Setup ImageMagick"
      ],
      "metadata": {
        "id": "wqbSGHmWaBaX"
      }
    },
    {
      "cell_type": "code",
      "source": [
        "!apt install imagemagick &> /dev/null\n",
        "!sed -i '/<policy domain=\"path\" rights=\"none\" pattern=\"@\\*\"/d' /etc/ImageMagick-6/policy.xml\n",
        "!sudo sed -i 's/<policy domain=\"resource\" name=\"width\" value=\"[0-9]*KP\"\\/>/<policy domain=\"resource\" name=\"width\" value=\"16384K\"\\/>/' /etc/ImageMagick-6/policy.xml\n",
        "!sudo sed -i 's/<policy domain=\"resource\" name=\"height\" value=\"[0-9]*KP\"\\/>/<policy domain=\"resource\" name=\"height\" value=\"16384K\"\\/>/' /etc/ImageMagick-6/policy.xml"
      ],
      "metadata": {
        "id": "tUOo_gMcQ-xS"
      },
      "execution_count": 2,
      "outputs": []
    },
    {
      "cell_type": "markdown",
      "source": [
        "Step 2: Import Libraries\n",
        "\n",
        "Let's import the libraries we need.\n",
        "\n"
      ],
      "metadata": {
        "id": "tnJ1vALaaGMh"
      }
    },
    {
      "cell_type": "code",
      "source": [
        "import moviepy.editor as mp\n",
        "import pysrt\n",
        "from IPython.display import HTML"
      ],
      "metadata": {
        "id": "M8wWTR6GaJb1"
      },
      "execution_count": 14,
      "outputs": []
    },
    {
      "cell_type": "markdown",
      "source": [
        "Step 3: Define Functions for Adding Subtitles\n",
        "\n",
        "3.1 Function: srt_to_moviepy_subtitles\n",
        "\n",
        "This function converts an SRT subtitle file into moviepy text clips and overlays them onto the video."
      ],
      "metadata": {
        "id": "b2oTW_d0aPxj"
      }
    },
    {
      "cell_type": "code",
      "source": [
        "def srt_to_moviepy_subtitles(srt_file, video_clip):\n",
        "    subs = pysrt.open(srt_file)\n",
        "    subtitle_clips = []\n",
        "\n",
        "    for sub in subs:\n",
        "        start_time = sub.start.to_time()\n",
        "        end_time = sub.end.to_time()\n",
        "        start_seconds = start_time.hour * 3600 + start_time.minute * 60 + start_time.second + start_time.microsecond / 1e6\n",
        "        end_seconds = end_time.hour * 3600 + end_time.minute * 60 + end_time.second + end_time.microsecond / 1e6\n",
        "        duration = end_seconds - start_seconds\n",
        "\n",
        "        # Formatting text to handle newlines properly\n",
        "        formatted_text = sub.text.replace('\\n', ' ')\n",
        "\n",
        "        # Create a text clip with a black background and white text\n",
        "        text_clip = (mp.TextClip(formatted_text, fontsize=24, color='yellow', bg_color='black', method='caption', size=(video_clip.w - 20, None))\n",
        "             .set_start(start_seconds)\n",
        "             .set_duration(duration)\n",
        "             .set_position(('center', video_clip.h - 50)))  # Position near the bottom with padding\n",
        "\n",
        "        # Add the text clip to the list of subtitle clips\n",
        "        subtitle_clips.append(text_clip)\n",
        "\n",
        "    return mp.CompositeVideoClip([video_clip] + subtitle_clips)"
      ],
      "metadata": {
        "id": "q3HQUtNfaTW9"
      },
      "execution_count": 15,
      "outputs": []
    },
    {
      "cell_type": "markdown",
      "source": [
        "Explanation:\n",
        "\n",
        "pysrt.open(srt_file): Opens the subtitle file and parses it.\n",
        "\n",
        "start_time and end_time: Convert subtitle start and end times to Python datetime objects.\n",
        "\n",
        "start_seconds and end_seconds: Calculate subtitle start and end times in seconds.\n",
        "\n",
        "formatted_text: Replace newlines in the subtitle text with spaces.\n",
        "\n",
        "mp.TextClip: Creates a video clip containing text.\n",
        "\n",
        "Parameters:\n",
        "- fontsize: Font size of the text.\n",
        "- color: Color of the text.\n",
        "- bg_color: Background color of the text clip.\n",
        "- method='caption': Text rendering method.\n",
        "- size: Size of the text clip. Here it is adjusted to fit within the video frame width.\n",
        "- set_start: Sets the start time of the subtitle clip.\n",
        "- set_duration: Sets how long the subtitle will be displayed.\n",
        "- set_position: Sets the position of the text clip on the video frame.\n",
        "\n",
        "mp.CompositeVideoClip: Combines the original video clip with the subtitle clips."
      ],
      "metadata": {
        "id": "B6jo_odpaYx7"
      }
    },
    {
      "cell_type": "markdown",
      "source": [
        "3.2 Function: burn_subtitles\n",
        "\n",
        "This function applies the subtitles to a video file and saves the output."
      ],
      "metadata": {
        "id": "sBQ9JylaapHJ"
      }
    },
    {
      "cell_type": "code",
      "source": [
        "def burn_subtitles(video_file, srt_file, output_file):\n",
        "    video_clip = mp.VideoFileClip(video_file)\n",
        "    video_with_subs = srt_to_moviepy_subtitles(srt_file, video_clip)\n",
        "    video_with_subs.write_videofile(output_file, codec='libx264', audio_codec='aac')"
      ],
      "metadata": {
        "id": "X77xxN2YarhY"
      },
      "execution_count": 16,
      "outputs": []
    },
    {
      "cell_type": "markdown",
      "source": [
        "Explanation:\n",
        "\n",
        "- mp.VideoFileClip(video_file): Loads the video file into a moviepy video clip.\n",
        "- srt_to_moviepy_subtitles: Calls the previously defined function to add subtitles to the video.\n",
        "- write_videofile: Writes the final video with subtitles to a file.\n",
        "\n",
        "Parameters:\n",
        " - codec='libx264': Specifies the video codec.\n",
        " - audio_codec='aac': Specifies the audio codec."
      ],
      "metadata": {
        "id": "JVPf73csazPJ"
      }
    },
    {
      "cell_type": "markdown",
      "source": [
        "### Upload input files"
      ],
      "metadata": {
        "id": "RXNx3sLQbIIN"
      }
    },
    {
      "cell_type": "code",
      "source": [
        "from google.colab import files\n",
        "uploaded_files = files.upload()\n",
        "\n",
        "# Save uploaded files to disk\n",
        "video_file_path = None\n",
        "srt_file_path = None\n",
        "\n",
        "for file_name in uploaded_files.keys():\n",
        "    if file_name.endswith('.mp4'):\n",
        "        video_file_path = file_name\n",
        "        with open(file_name, 'wb') as f:\n",
        "            f.write(uploaded_files[file_name])\n",
        "    elif file_name.endswith('.srt'):\n",
        "        srt_file_path = file_name\n",
        "        with open(file_name, 'wb') as f:\n",
        "            f.write(uploaded_files[file_name])\n",
        "\n",
        "if video_file_path and srt_file_path:\n",
        "    print(f\"Uploaded video file: {video_file_path}\")\n",
        "    print(f\"Uploaded subtitle file: {srt_file_path}\")\n",
        "else:\n",
        "    raise ValueError(\"Please upload both a .mp4 video file and a .srt subtitle file.\")"
      ],
      "metadata": {
        "colab": {
          "base_uri": "https://localhost:8080/",
          "height": 145
        },
        "id": "JLiy6QPnQCUW",
        "outputId": "ec8b6c50-2ae0-4dd7-9027-29a65bd55069"
      },
      "execution_count": 23,
      "outputs": [
        {
          "output_type": "display_data",
          "data": {
            "text/plain": [
              "<IPython.core.display.HTML object>"
            ],
            "text/html": [
              "\n",
              "     <input type=\"file\" id=\"files-390a30b1-6c8e-4e06-a5a8-966cb9176ef3\" name=\"files[]\" multiple disabled\n",
              "        style=\"border:none\" />\n",
              "     <output id=\"result-390a30b1-6c8e-4e06-a5a8-966cb9176ef3\">\n",
              "      Upload widget is only available when the cell has been executed in the\n",
              "      current browser session. Please rerun this cell to enable.\n",
              "      </output>\n",
              "      <script>// Copyright 2017 Google LLC\n",
              "//\n",
              "// Licensed under the Apache License, Version 2.0 (the \"License\");\n",
              "// you may not use this file except in compliance with the License.\n",
              "// You may obtain a copy of the License at\n",
              "//\n",
              "//      http://www.apache.org/licenses/LICENSE-2.0\n",
              "//\n",
              "// Unless required by applicable law or agreed to in writing, software\n",
              "// distributed under the License is distributed on an \"AS IS\" BASIS,\n",
              "// WITHOUT WARRANTIES OR CONDITIONS OF ANY KIND, either express or implied.\n",
              "// See the License for the specific language governing permissions and\n",
              "// limitations under the License.\n",
              "\n",
              "/**\n",
              " * @fileoverview Helpers for google.colab Python module.\n",
              " */\n",
              "(function(scope) {\n",
              "function span(text, styleAttributes = {}) {\n",
              "  const element = document.createElement('span');\n",
              "  element.textContent = text;\n",
              "  for (const key of Object.keys(styleAttributes)) {\n",
              "    element.style[key] = styleAttributes[key];\n",
              "  }\n",
              "  return element;\n",
              "}\n",
              "\n",
              "// Max number of bytes which will be uploaded at a time.\n",
              "const MAX_PAYLOAD_SIZE = 100 * 1024;\n",
              "\n",
              "function _uploadFiles(inputId, outputId) {\n",
              "  const steps = uploadFilesStep(inputId, outputId);\n",
              "  const outputElement = document.getElementById(outputId);\n",
              "  // Cache steps on the outputElement to make it available for the next call\n",
              "  // to uploadFilesContinue from Python.\n",
              "  outputElement.steps = steps;\n",
              "\n",
              "  return _uploadFilesContinue(outputId);\n",
              "}\n",
              "\n",
              "// This is roughly an async generator (not supported in the browser yet),\n",
              "// where there are multiple asynchronous steps and the Python side is going\n",
              "// to poll for completion of each step.\n",
              "// This uses a Promise to block the python side on completion of each step,\n",
              "// then passes the result of the previous step as the input to the next step.\n",
              "function _uploadFilesContinue(outputId) {\n",
              "  const outputElement = document.getElementById(outputId);\n",
              "  const steps = outputElement.steps;\n",
              "\n",
              "  const next = steps.next(outputElement.lastPromiseValue);\n",
              "  return Promise.resolve(next.value.promise).then((value) => {\n",
              "    // Cache the last promise value to make it available to the next\n",
              "    // step of the generator.\n",
              "    outputElement.lastPromiseValue = value;\n",
              "    return next.value.response;\n",
              "  });\n",
              "}\n",
              "\n",
              "/**\n",
              " * Generator function which is called between each async step of the upload\n",
              " * process.\n",
              " * @param {string} inputId Element ID of the input file picker element.\n",
              " * @param {string} outputId Element ID of the output display.\n",
              " * @return {!Iterable<!Object>} Iterable of next steps.\n",
              " */\n",
              "function* uploadFilesStep(inputId, outputId) {\n",
              "  const inputElement = document.getElementById(inputId);\n",
              "  inputElement.disabled = false;\n",
              "\n",
              "  const outputElement = document.getElementById(outputId);\n",
              "  outputElement.innerHTML = '';\n",
              "\n",
              "  const pickedPromise = new Promise((resolve) => {\n",
              "    inputElement.addEventListener('change', (e) => {\n",
              "      resolve(e.target.files);\n",
              "    });\n",
              "  });\n",
              "\n",
              "  const cancel = document.createElement('button');\n",
              "  inputElement.parentElement.appendChild(cancel);\n",
              "  cancel.textContent = 'Cancel upload';\n",
              "  const cancelPromise = new Promise((resolve) => {\n",
              "    cancel.onclick = () => {\n",
              "      resolve(null);\n",
              "    };\n",
              "  });\n",
              "\n",
              "  // Wait for the user to pick the files.\n",
              "  const files = yield {\n",
              "    promise: Promise.race([pickedPromise, cancelPromise]),\n",
              "    response: {\n",
              "      action: 'starting',\n",
              "    }\n",
              "  };\n",
              "\n",
              "  cancel.remove();\n",
              "\n",
              "  // Disable the input element since further picks are not allowed.\n",
              "  inputElement.disabled = true;\n",
              "\n",
              "  if (!files) {\n",
              "    return {\n",
              "      response: {\n",
              "        action: 'complete',\n",
              "      }\n",
              "    };\n",
              "  }\n",
              "\n",
              "  for (const file of files) {\n",
              "    const li = document.createElement('li');\n",
              "    li.append(span(file.name, {fontWeight: 'bold'}));\n",
              "    li.append(span(\n",
              "        `(${file.type || 'n/a'}) - ${file.size} bytes, ` +\n",
              "        `last modified: ${\n",
              "            file.lastModifiedDate ? file.lastModifiedDate.toLocaleDateString() :\n",
              "                                    'n/a'} - `));\n",
              "    const percent = span('0% done');\n",
              "    li.appendChild(percent);\n",
              "\n",
              "    outputElement.appendChild(li);\n",
              "\n",
              "    const fileDataPromise = new Promise((resolve) => {\n",
              "      const reader = new FileReader();\n",
              "      reader.onload = (e) => {\n",
              "        resolve(e.target.result);\n",
              "      };\n",
              "      reader.readAsArrayBuffer(file);\n",
              "    });\n",
              "    // Wait for the data to be ready.\n",
              "    let fileData = yield {\n",
              "      promise: fileDataPromise,\n",
              "      response: {\n",
              "        action: 'continue',\n",
              "      }\n",
              "    };\n",
              "\n",
              "    // Use a chunked sending to avoid message size limits. See b/62115660.\n",
              "    let position = 0;\n",
              "    do {\n",
              "      const length = Math.min(fileData.byteLength - position, MAX_PAYLOAD_SIZE);\n",
              "      const chunk = new Uint8Array(fileData, position, length);\n",
              "      position += length;\n",
              "\n",
              "      const base64 = btoa(String.fromCharCode.apply(null, chunk));\n",
              "      yield {\n",
              "        response: {\n",
              "          action: 'append',\n",
              "          file: file.name,\n",
              "          data: base64,\n",
              "        },\n",
              "      };\n",
              "\n",
              "      let percentDone = fileData.byteLength === 0 ?\n",
              "          100 :\n",
              "          Math.round((position / fileData.byteLength) * 100);\n",
              "      percent.textContent = `${percentDone}% done`;\n",
              "\n",
              "    } while (position < fileData.byteLength);\n",
              "  }\n",
              "\n",
              "  // All done.\n",
              "  yield {\n",
              "    response: {\n",
              "      action: 'complete',\n",
              "    }\n",
              "  };\n",
              "}\n",
              "\n",
              "scope.google = scope.google || {};\n",
              "scope.google.colab = scope.google.colab || {};\n",
              "scope.google.colab._files = {\n",
              "  _uploadFiles,\n",
              "  _uploadFilesContinue,\n",
              "};\n",
              "})(self);\n",
              "</script> "
            ]
          },
          "metadata": {}
        },
        {
          "output_type": "stream",
          "name": "stdout",
          "text": [
            "Saving input.mp4 to input.mp4\n",
            "Saving input.srt to input.srt\n",
            "Uploaded video file: input.mp4\n",
            "Uploaded subtitle file: input.srt\n"
          ]
        }
      ]
    },
    {
      "cell_type": "markdown",
      "source": [
        "### Generate and download output"
      ],
      "metadata": {
        "id": "357uE8PncCPx"
      }
    },
    {
      "cell_type": "code",
      "source": [
        "output_file_name = 'output.mp4'\n",
        "burn_subtitles(video_file_path, srt_file_path, output_file_name)\n",
        "\n",
        "# Provide a link to download the output file\n",
        "files.download(output_file_name)"
      ],
      "metadata": {
        "colab": {
          "base_uri": "https://localhost:8080/",
          "height": 216
        },
        "id": "XXIa9vOVZOUo",
        "outputId": "b983a561-ef37-466d-dae8-0d1a138488bf"
      },
      "execution_count": 24,
      "outputs": [
        {
          "output_type": "stream",
          "name": "stdout",
          "text": [
            "Moviepy - Building video output.mp4.\n",
            "MoviePy - Writing audio in outputTEMP_MPY_wvf_snd.mp4\n"
          ]
        },
        {
          "output_type": "stream",
          "name": "stderr",
          "text": []
        },
        {
          "output_type": "stream",
          "name": "stdout",
          "text": [
            "MoviePy - Done.\n",
            "Moviepy - Writing video output.mp4\n",
            "\n"
          ]
        },
        {
          "output_type": "stream",
          "name": "stderr",
          "text": [
            "t:  99%|█████████▉| 866/873 [00:16<00:00, 70.20it/s, now=None]WARNING:py.warnings:/usr/local/lib/python3.10/dist-packages/moviepy/video/io/ffmpeg_reader.py:123: UserWarning: Warning: in file input.mp4, 641280 bytes wanted but 0 bytes read,at frame 872/873, at time 34.88/34.90 sec. Using the last valid frame instead.\n",
            "  warnings.warn(\"Warning: in file %s, \"%(self.filename)+\n",
            "\n"
          ]
        },
        {
          "output_type": "stream",
          "name": "stdout",
          "text": [
            "Moviepy - Done !\n",
            "Moviepy - video ready output.mp4\n"
          ]
        },
        {
          "output_type": "display_data",
          "data": {
            "text/plain": [
              "<IPython.core.display.Javascript object>"
            ],
            "application/javascript": [
              "\n",
              "    async function download(id, filename, size) {\n",
              "      if (!google.colab.kernel.accessAllowed) {\n",
              "        return;\n",
              "      }\n",
              "      const div = document.createElement('div');\n",
              "      const label = document.createElement('label');\n",
              "      label.textContent = `Downloading \"${filename}\": `;\n",
              "      div.appendChild(label);\n",
              "      const progress = document.createElement('progress');\n",
              "      progress.max = size;\n",
              "      div.appendChild(progress);\n",
              "      document.body.appendChild(div);\n",
              "\n",
              "      const buffers = [];\n",
              "      let downloaded = 0;\n",
              "\n",
              "      const channel = await google.colab.kernel.comms.open(id);\n",
              "      // Send a message to notify the kernel that we're ready.\n",
              "      channel.send({})\n",
              "\n",
              "      for await (const message of channel.messages) {\n",
              "        // Send a message to notify the kernel that we're ready.\n",
              "        channel.send({})\n",
              "        if (message.buffers) {\n",
              "          for (const buffer of message.buffers) {\n",
              "            buffers.push(buffer);\n",
              "            downloaded += buffer.byteLength;\n",
              "            progress.value = downloaded;\n",
              "          }\n",
              "        }\n",
              "      }\n",
              "      const blob = new Blob(buffers, {type: 'application/binary'});\n",
              "      const a = document.createElement('a');\n",
              "      a.href = window.URL.createObjectURL(blob);\n",
              "      a.download = filename;\n",
              "      div.appendChild(a);\n",
              "      a.click();\n",
              "      div.remove();\n",
              "    }\n",
              "  "
            ]
          },
          "metadata": {}
        },
        {
          "output_type": "display_data",
          "data": {
            "text/plain": [
              "<IPython.core.display.Javascript object>"
            ],
            "application/javascript": [
              "download(\"download_82d10352-fbb7-4d30-a5c3-11fcc93142cd\", \"output.mp4\", 1866895)"
            ]
          },
          "metadata": {}
        }
      ]
    }
  ]
}